{
 "cells": [
  {
   "cell_type": "markdown",
   "id": "7e35ff85-6da9-462b-97a6-4fb2cc4da761",
   "metadata": {},
   "source": [
    "# Import useful functions from book_of_functions.py \n",
    "\n",
    "You can use `magic command %` as shown below to import the functions:\n",
    "\n",
    "- *csv_nan_reader()*\n",
    "- *zip_extractor()*\n",
    "\n",
    "Run the cell below, then collapse it."
   ]
  },
  {
   "cell_type": "code",
   "execution_count": null,
   "id": "6c91b87d",
   "metadata": {},
   "outputs": [],
   "source": [
    "%load book_of_functions.py\n",
    "%run book_of_functions.py"
   ]
  },
  {
   "cell_type": "markdown",
   "id": "9b214581-57e0-450b-af9b-10bf06d66f58",
   "metadata": {},
   "source": [
    "---\n",
    "## Lifestyle project\n",
    "\n"
   ]
  },
  {
   "cell_type": "markdown",
   "id": "80282c90",
   "metadata": {},
   "source": [
    "Extract this files in a folder called 'Lifestyle'"
   ]
  },
  {
   "cell_type": "code",
   "execution_count": null,
   "id": "a72589ae",
   "metadata": {},
   "outputs": [],
   "source": [
    "zip_extractor()"
   ]
  },
  {
   "cell_type": "markdown",
   "id": "9192b61d",
   "metadata": {},
   "source": [
    "Read the .csv files in the folder 'Lifestyle'"
   ]
  },
  {
   "cell_type": "code",
   "execution_count": null,
   "id": "f06cc09c-b1ec-4555-9e8c-602f4e9989b1",
   "metadata": {},
   "outputs": [],
   "source": [
    "csv_nan_reader()"
   ]
  }
 ],
 "metadata": {
  "kernelspec": {
   "display_name": "Python 3",
   "language": "python",
   "name": "python3"
  },
  "language_info": {
   "codemirror_mode": {
    "name": "ipython",
    "version": 3
   },
   "file_extension": ".py",
   "mimetype": "text/x-python",
   "name": "python",
   "nbconvert_exporter": "python",
   "pygments_lexer": "ipython3",
   "version": "3.8.8"
  }
 },
 "nbformat": 4,
 "nbformat_minor": 5
}
